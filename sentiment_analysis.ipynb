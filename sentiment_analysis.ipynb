{
  "nbformat": 4,
  "nbformat_minor": 0,
  "metadata": {
    "colab": {
      "provenance": []
    },
    "kernelspec": {
      "name": "python3",
      "display_name": "Python 3"
    },
    "language_info": {
      "name": "python"
    }
  },
  "cells": [
    {
      "cell_type": "code",
      "source": [
        "import numpy as np\n",
        "import pandas as pd\n",
        "import re\n",
        "import string\n",
        "from sklearn.feature_extraction.text import CountVectorizer\n",
        "from sklearn.model_selection import train_test_split\n",
        "from sklearn.naive_bayes import MultinomialNB\n",
        "from sklearn.svm import SVC\n",
        "from sklearn.metrics import classification_report, f1_score\n",
        "from collections import defaultdict\n"
      ],
      "metadata": {
        "id": "7fdXRxi7aCQL"
      },
      "execution_count": 6,
      "outputs": []
    },
    {
      "cell_type": "markdown",
      "source": [
        "data preprocessing"
      ],
      "metadata": {
        "id": "ApPO62bFhpQo"
      }
    },
    {
      "cell_type": "code",
      "source": [
        "# Function to preprocess text\n",
        "def preprocess_text(text):\n",
        "    text = text.lower()\n",
        "    text = re.sub(f\"[{string.punctuation}]\", \"\", text)  # Remove punctuation\n",
        "    return text\n",
        "\n",
        "# Function to load dataset\n",
        "def load_dataset(train_file, test_file):\n",
        "    train_df = pd.read_csv(train_file)\n",
        "    test_df = pd.read_csv(test_file)\n",
        "\n",
        "    # Preprocess text\n",
        "    train_df['Sentence'] = train_df['Sentence'].apply(preprocess_text)\n",
        "    test_df['Sentence'] = test_df['Sentence'].apply(preprocess_text)\n",
        "\n",
        "    return train_df, test_df\n",
        "\n",
        "# Load all datasets\n",
        "hate_train, hate_test = load_dataset(\"hate_train.csv\", \"hate_test.csv\")\n",
        "humor_train, humor_test = load_dataset(\"humor_train.csv\", \"humor_test.csv\")\n",
        "sarcasm_train, sarcasm_test = load_dataset(\"sarcasm_train.csv\", \"sarcasm_test.csv\")\n"
      ],
      "metadata": {
        "id": "sAXqFS7KbCkN"
      },
      "execution_count": 7,
      "outputs": []
    },
    {
      "cell_type": "markdown",
      "source": [
        "feature extraction from all datasets, i have renamed validation set as training set"
      ],
      "metadata": {
        "id": "ku_thv1chzKB"
      }
    },
    {
      "cell_type": "code",
      "source": [
        "# Function to extract features using n-grams\n",
        "def extract_features(train_texts, test_texts, ngram_range=(1, 3)):\n",
        "    vectorizer = CountVectorizer(ngram_range=ngram_range)\n",
        "    X_train = vectorizer.fit_transform(train_texts)\n",
        "    X_test = vectorizer.transform(test_texts)\n",
        "    return X_train, X_test, vectorizer\n",
        "\n",
        "# Extract features\n",
        "X_train_hate, X_test_hate, vectorizer_hate = extract_features(hate_train['Sentence'], hate_test['Sentence'])\n",
        "X_train_humor, X_test_humor, vectorizer_humor = extract_features(humor_train['Sentence'], humor_test['Sentence'])\n",
        "X_train_sarcasm, X_test_sarcasm, vectorizer_sarcasm = extract_features(sarcasm_train['Sentence'], sarcasm_test['Sentence'])\n"
      ],
      "metadata": {
        "id": "mfnmsJJHbLut"
      },
      "execution_count": 8,
      "outputs": []
    },
    {
      "cell_type": "markdown",
      "source": [
        "training the model"
      ],
      "metadata": {
        "id": "byhH5tN6h84p"
      }
    },
    {
      "cell_type": "code",
      "source": [
        "# Function to train a model\n",
        "def train_model(X_train, y_train, model_type=\"nb\"):\n",
        "    if model_type == \"nb\":\n",
        "        model = MultinomialNB()\n",
        "    elif model_type == \"svm\":\n",
        "        model = SVC(kernel=\"linear\", probability=True)\n",
        "\n",
        "    model.fit(X_train, y_train)\n",
        "    return model\n",
        "\n",
        "# Train models\n",
        "model_hate_nb = train_model(X_train_hate, hate_train['Tag'], model_type=\"nb\")\n",
        "model_humor_nb = train_model(X_train_humor, humor_train['Tag'], model_type=\"nb\")\n",
        "model_sarcasm_nb = train_model(X_train_sarcasm, sarcasm_train['Tag'], model_type=\"nb\")\n",
        "\n",
        "model_hate_svm = train_model(X_train_hate, hate_train['Tag'], model_type=\"svm\")\n",
        "model_humor_svm = train_model(X_train_humor, humor_train['Tag'], model_type=\"svm\")\n",
        "model_sarcasm_svm = train_model(X_train_sarcasm, sarcasm_train['Tag'], model_type=\"svm\")\n"
      ],
      "metadata": {
        "id": "yf-lBD51bMCE"
      },
      "execution_count": 10,
      "outputs": []
    },
    {
      "cell_type": "markdown",
      "source": [
        "calculating F1 score"
      ],
      "metadata": {
        "id": "BEYc551ih__5"
      }
    },
    {
      "cell_type": "code",
      "source": [
        "# Function to evaluate models\n",
        "def evaluate_model(model, X_test, y_test):\n",
        "    y_pred = model.predict(X_test)\n",
        "    print(classification_report(y_test, y_pred))\n",
        "    return f1_score(y_test, y_pred, pos_label=1)\n",
        "\n",
        "# Evaluate Naive Bayes models\n",
        "print(\"Hate Speech (Naive Bayes):\")\n",
        "f1_hate_nb = evaluate_model(model_hate_nb, X_test_hate, hate_test['Tag'])\n",
        "\n",
        "print(\"Humor (Naive Bayes):\")\n",
        "f1_humor_nb = evaluate_model(model_humor_nb, X_test_humor, humor_test['Tag'])\n",
        "\n",
        "print(\"Sarcasm (Naive Bayes):\")\n",
        "f1_sarcasm_nb = evaluate_model(model_sarcasm_nb, X_test_sarcasm, sarcasm_test['Tag'])\n",
        "\n",
        "# Evaluate SVM models\n",
        "print(\"Hate Speech (SVM):\")\n",
        "f1_hate_svm = evaluate_model(model_hate_svm, X_test_hate, hate_test['Tag'])\n",
        "\n",
        "print(\"Humor (SVM):\")\n",
        "f1_humor_svm = evaluate_model(model_humor_svm, X_test_humor, humor_test['Tag'])\n",
        "\n",
        "print(\"Sarcasm (SVM):\")\n",
        "f1_sarcasm_svm = evaluate_model(model_sarcasm_svm, X_test_sarcasm, sarcasm_test['Tag'])\n"
      ],
      "metadata": {
        "id": "2GafGHaTbMPD",
        "colab": {
          "base_uri": "https://localhost:8080/"
        },
        "outputId": "fec20ae0-05cb-4bde-ed64-7c7a53193c98"
      },
      "execution_count": 18,
      "outputs": [
        {
          "output_type": "stream",
          "name": "stdout",
          "text": [
            "Hate Speech (Naive Bayes):\n",
            "              precision    recall  f1-score   support\n",
            "\n",
            "           0       0.71      0.93      0.81       309\n",
            "           1       0.59      0.20      0.30       148\n",
            "\n",
            "    accuracy                           0.70       457\n",
            "   macro avg       0.65      0.57      0.55       457\n",
            "weighted avg       0.67      0.70      0.64       457\n",
            "\n",
            "Humor (Naive Bayes):\n",
            "              precision    recall  f1-score   support\n",
            "\n",
            "           0       0.78      0.21      0.33       119\n",
            "           1       0.64      0.96      0.77       176\n",
            "\n",
            "    accuracy                           0.66       295\n",
            "   macro avg       0.71      0.59      0.55       295\n",
            "weighted avg       0.70      0.66      0.59       295\n",
            "\n",
            "Sarcasm (Naive Bayes):\n",
            "              precision    recall  f1-score   support\n",
            "\n",
            "           0       0.90      1.00      0.95       474\n",
            "           1       1.00      0.02      0.04        51\n",
            "\n",
            "    accuracy                           0.90       525\n",
            "   macro avg       0.95      0.51      0.49       525\n",
            "weighted avg       0.91      0.90      0.86       525\n",
            "\n",
            "Hate Speech (SVM):\n",
            "              precision    recall  f1-score   support\n",
            "\n",
            "           0       0.74      0.85      0.79       309\n",
            "           1       0.55      0.37      0.44       148\n",
            "\n",
            "    accuracy                           0.70       457\n",
            "   macro avg       0.64      0.61      0.62       457\n",
            "weighted avg       0.68      0.70      0.68       457\n",
            "\n",
            "Humor (SVM):\n",
            "              precision    recall  f1-score   support\n",
            "\n",
            "           0       0.63      0.66      0.64       119\n",
            "           1       0.76      0.73      0.75       176\n",
            "\n",
            "    accuracy                           0.71       295\n",
            "   macro avg       0.70      0.70      0.70       295\n",
            "weighted avg       0.71      0.71      0.71       295\n",
            "\n",
            "Sarcasm (SVM):\n",
            "              precision    recall  f1-score   support\n",
            "\n",
            "           0       0.97      0.99      0.98       474\n",
            "           1       0.93      0.75      0.83        51\n",
            "\n",
            "    accuracy                           0.97       525\n",
            "   macro avg       0.95      0.87      0.90       525\n",
            "weighted avg       0.97      0.97      0.97       525\n",
            "\n"
          ]
        }
      ]
    },
    {
      "cell_type": "markdown",
      "source": [
        "Plotting the F1 scores of positive classes of both naive bayes classifier and SVM"
      ],
      "metadata": {
        "id": "6h2XS6JmiQOI"
      }
    },
    {
      "cell_type": "code",
      "source": [
        "+import matplotlib.pyplot as plt\n",
        "\n",
        "# F1-scores from your results\n",
        "f1_scores = {\n",
        "    \"Hate Speech (NB)\": 0.30,\n",
        "    \"Hate Speech (SVM)\": 0.44,\n",
        "    \"Humor (NB)\": 0.77,\n",
        "    \"Humor (SVM)\": 0.75,\n",
        "    \"Sarcasm (NB)\": 0.04,\n",
        "    \"Sarcasm (SVM)\": 0.83\n",
        "}\n",
        "\n",
        "# Plot bar chart\n",
        "plt.figure(figsize=(10, 5))\n",
        "plt.bar(f1_scores.keys(), f1_scores.values(), color=['red', 'blue', 'red', 'blue', 'red', 'blue'])\n",
        "plt.xlabel(\"Models\")\n",
        "plt.ylabel(\"F1 Score (Positive Class)\")\n",
        "plt.title(\"F1 Scores for Code-Mixed Classification\")\n",
        "plt.xticks(rotation=30, ha=\"right\")\n",
        "plt.ylim(0, 1)  # F1-scores range from 0 to 1\n",
        "\n",
        "# Show the values on top of bars\n",
        "for i, v in enumerate(f1_scores.values()):\n",
        "    plt.text(i, v + 0.02, f\"{v:.2f}\", ha='center', fontsize=12)\n",
        "\n",
        "plt.show()\n"
      ],
      "metadata": {
        "colab": {
          "base_uri": "https://localhost:8080/",
          "height": 552
        },
        "id": "-KrHMLjNhnlL",
        "outputId": "78c87416-4941-47fc-fdde-a42798c6bf4b"
      },
      "execution_count": 20,
      "outputs": [
        {
          "output_type": "display_data",
          "data": {
            "text/plain": [
              "<Figure size 1000x500 with 1 Axes>"
            ],
            "image/png": "[encoded data removed]"
          },
          "metadata": {}
        }
      ]
    },
    {
      "cell_type": "code",
      "source": [],
      "metadata": {
        "id": "BSmIrBHtda3s"
      },
      "execution_count": null,
      "outputs": []
    }
  ]
}
